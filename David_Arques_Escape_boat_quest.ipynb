{
  "nbformat": 4,
  "nbformat_minor": 0,
  "metadata": {
    "colab": {
      "provenance": []
    },
    "kernelspec": {
      "name": "python3",
      "display_name": "Python 3"
    },
    "language_info": {
      "name": "python"
    }
  },
  "cells": [
    {
      "cell_type": "markdown",
      "source": [
        "\n",
        "### Define rooms and items:\n",
        "\n"
      ],
      "metadata": {
        "id": "jKCXUaDTrB8r"
      }
    },
    {
      "cell_type": "code",
      "source": [
        "# Room 1: Engine Room\n",
        "\n",
        "tool_kit = {\"name\": \"tool kit\", \"type\": \"equipment\"}\n",
        "locker = {\"name\": \"locker\", \"type\": \"equipment\"}\n",
        "door_a = {\"name\": \"door a\", \"type\": \"door\"}\n",
        "key_a = {\"name\": \"key for door a\", \"type\": \"key\",\"target\": door_a}\n",
        "engine_room = {\"name\": \"engine room\", \"type\": \"room\"}"
      ],
      "metadata": {
        "id": "q340JPQxrNzE"
      },
      "execution_count": null,
      "outputs": []
    },
    {
      "cell_type": "code",
      "source": [
        "# Room 2: Control Room\n",
        "\n",
        "drawer = {\"name\": \"drawer\", \"type\": \"equipment\"}\n",
        "wood_box = {\"name\": \"wood box\", \"type\": \"equipment\"}\n",
        "door_a = {\"name\": \"door a\", \"type\": \"door\"}\n",
        "door_b = {\"name\": \"door b\", \"type\": \"door\"}\n",
        "door_c = {\"name\": \"door c\", \"type\": \"door\"}\n",
        "key_b = {\"name\": \"key for door b\", \"type\": \"key\",\"target\": door_b}\n",
        "control_room = {\"name\": \"control room\", \"type\": \"room\"}\n"
      ],
      "metadata": {
        "id": "xX0YutRKs-qU"
      },
      "execution_count": null,
      "outputs": []
    },
    {
      "cell_type": "code",
      "source": [
        "# Room 3: Crew Room\n",
        "\n",
        "crew_room = {\"name\": \"crew room\", \"type\": \"room\"}\n",
        "captain_bed = {\"name\": \"captain's bed\", \"type\": \"equipment\"}\n",
        "sink = {\"name\": \"sink\", \"type\": \"equipment\"}\n",
        "oven = {\"name\": \"oven\", \"type\": \"equipment\"}\n",
        "door_b = {\"name\": \"door b\", \"type\": \"door\"}\n",
        "key_c = {\"name\": \"key for door c\", \"type\": \"key\",\"target\": door_c}"
      ],
      "metadata": {
        "id": "L5_OzonABwml"
      },
      "execution_count": null,
      "outputs": []
    },
    {
      "cell_type": "code",
      "source": [
        "# Room 4: Upper Deck\n",
        "\n",
        "door_d = {\"name\": \"door d\", \"type\": \"door\"}\n",
        "door_c = {\"name\": \"door c\", \"type\": \"door\"}\n",
        "upper_deck = {\"name\": \"upper deck\", \"type\": \"room\"}\n",
        "stairs = {\"name\": \"stairs\", \"type\": \"equipment\"}\n",
        "safety_boat = {\"name\": \"safety boat\", \"type\": \"key\", \"target\": door_d}"
      ],
      "metadata": {
        "id": "KQiM39X1B1Gy"
      },
      "execution_count": null,
      "outputs": []
    },
    {
      "cell_type": "code",
      "source": [
        "# Rooms, Doors & Objects:\n",
        "\n",
        "all_rooms = [engine_room, control_room, crew_room, upper_deck]\n",
        "all_doors = [door_a, door_b, door_c, door_d]\n",
        "\n",
        "object_relations = {\n",
        "    \"engine room\": [tool_kit, locker, door_a],\n",
        "    \"locker\": [key_a],\n",
        "    \"control room\": [drawer, wood_box, door_a, door_b, door_c],\n",
        "    \"drawer\": [key_b],\n",
        "    \"crew room\": [captain_bed, sink, oven, door_b],\n",
        "    \"sink\":[key_c],\n",
        "    \"upper deck\": [safety_boat, stairs, door_c, door_d],\n",
        "    \"safety boat\":[door_d],\n",
        "    \"door a\": [engine_room, control_room],\n",
        "    \"door b\": [control_room, crew_room],\n",
        "    \"door c\": [control_room, upper_deck],\n",
        "    \"door d\": [upper_deck]\n",
        "    }"
      ],
      "metadata": {
        "id": "oIhlhEnzEwmo"
      },
      "execution_count": null,
      "outputs": []
    },
    {
      "cell_type": "markdown",
      "source": [
        "###Init Game"
      ],
      "metadata": {
        "id": "rJs4d4F6FALS"
      }
    },
    {
      "cell_type": "code",
      "source": [
        "INIT_GAME_STATE = {\n",
        "    \"current_room\": engine_room,\n",
        "    \"keys_collected\": [],\n",
        "    \"target_room\": upper_deck\n",
        "}"
      ],
      "metadata": {
        "id": "i25zsB55FIho"
      },
      "execution_count": null,
      "outputs": []
    },
    {
      "cell_type": "markdown",
      "source": [
        "###Game Functions:"
      ],
      "metadata": {
        "id": "A_pF8-X2Mdxb"
      }
    },
    {
      "cell_type": "code",
      "source": [
        "def linebreak():\n",
        "    \"\"\"\n",
        "    Print a line break\n",
        "    \"\"\"\n",
        "    print(\"\\n\\n\")\n",
        "\n",
        "def start_game():\n",
        "    \"\"\"\n",
        "    Start the game\n",
        "    \"\"\"\n",
        "    print(\"\"\"You wake up in the engine room of a sinking ship...\n",
        "\n",
        "    The room is dark, and you can hear water rushing in.\n",
        "    Time is running out, and you need to find a key to unlock the door\n",
        "    and go to the  upper deck where there are safety boats before it's too late.\n",
        "\n",
        "    \"\"\")\n",
        "\n",
        "    play_room(game_state[\"current_room\"])"
      ],
      "metadata": {
        "id": "9cLqx2eXMho4"
      },
      "execution_count": null,
      "outputs": []
    },
    {
      "cell_type": "code",
      "source": [
        "def play_room(room):\n",
        "    \"\"\"\n",
        "    Play a room. First check if the room being played is the target room.\n",
        "    If it is, the game will end with success. Otherwise, let player either\n",
        "    explore (list all items in this room) or examine an item found here.\n",
        "    \"\"\"\n",
        "    game_state[\"current_room\"] = room\n",
        "    if(game_state[\"current_room\"] == game_state[\"target_room\"]):\n",
        "        print(\"Congrats! You escaped the room!\")\n",
        "    else:\n",
        "        print(\"You are now in \" + room[\"name\"])\n",
        "        intended_action = input(\"What would you like to do? Type 'explore' or 'examine'?\").strip()\n",
        "        if intended_action == \"explore\":\n",
        "            explore_room(room)\n",
        "            play_room(room)\n",
        "        elif intended_action == \"examine\":\n",
        "            examine_item(input(\"What would you like to examine?\").strip())\n",
        "        else:\n",
        "            print(\"Not sure what you mean. Type 'explore' or 'examine'.\")\n",
        "            play_room(room)\n",
        "        linebreak()"
      ],
      "metadata": {
        "id": "T5iafSqObRB7"
      },
      "execution_count": null,
      "outputs": []
    },
    {
      "cell_type": "code",
      "source": [
        "#Explore function:\n",
        "\n",
        "def explore_room(room):\n",
        "    \"\"\"\n",
        "    Explore a room. List all items belonging to this room.\n",
        "    \"\"\"\n",
        "    items = [i[\"name\"] for i in object_relations[room[\"name\"]]]\n",
        "    print(\"You explore the room. This is \" + room[\"name\"] + \". You find \" + \", \".join(items))"
      ],
      "metadata": {
        "id": "mZHPFuevgWMv"
      },
      "execution_count": null,
      "outputs": []
    },
    {
      "cell_type": "code",
      "source": [
        "def get_next_room_of_door(door, current_room):\n",
        "    \"\"\"\n",
        "    From object_relations, find the two rooms connected to the given door.\n",
        "    Return the room that is not the current_room.\n",
        "    \"\"\"\n",
        "    connected_rooms = object_relations[door[\"name\"]]\n",
        "    for room in connected_rooms:\n",
        "        if(not current_room == room):\n",
        "            return room\n",
        "\n",
        "def examine_item(item_name):\n",
        "    \"\"\"\n",
        "    Examine an item which can be a door or furniture.\n",
        "    First make sure the intended item belongs to the current room.\n",
        "    Then check if the item is a door. Tell player if key hasn't been\n",
        "    collected yet. Otherwise ask player if they want to go to the next\n",
        "    room. If the item is not a door, then check if it contains keys.\n",
        "    Collect the key if found and update the game state. At the end,\n",
        "    play either the current or the next room depending on the game state\n",
        "    to keep playing.\n",
        "    \"\"\"\n",
        "    current_room = game_state[\"current_room\"]\n",
        "    next_room = \"\"\n",
        "    output = None\n",
        "\n",
        "    for item in object_relations[current_room[\"name\"]]:\n",
        "        if(item[\"name\"] == item_name):\n",
        "            output = \"You examine \" + item_name + \". \"\n",
        "            if(item[\"type\"] == \"door\"):\n",
        "                have_key = False\n",
        "                for key in game_state[\"keys_collected\"]:\n",
        "                    if(key[\"target\"] == item):\n",
        "                        have_key = True\n",
        "                if(have_key):\n",
        "                    output += \"You unlock it with a key you have.\"\n",
        "                    next_room = get_next_room_of_door(item, current_room)\n",
        "                else:\n",
        "                    output += \"It is locked but you don't have the key.\"\n",
        "            else:\n",
        "                if(item[\"name\"] in object_relations and len(object_relations[item[\"name\"]])>0):\n",
        "                    item_found = object_relations[item[\"name\"]].pop()\n",
        "                    game_state[\"keys_collected\"].append(item_found)\n",
        "                    output += \"You find \" + item_found[\"name\"] + \".\"\n",
        "                else:\n",
        "                    output += \"There isn't anything interesting about it.\"\n",
        "            print(output)\n",
        "            break\n",
        "\n",
        "    if(output is None):\n",
        "        print(\"The item you requested is not found in the current room.\")\n",
        "\n",
        "    if(next_room and input(\"Do you want to go to the next room? Ener 'yes' or 'no'\").strip() == 'yes'):\n",
        "        play_room(next_room)\n",
        "    else:\n",
        "        play_room(current_room)"
      ],
      "metadata": {
        "id": "NtVrLeACR3RX"
      },
      "execution_count": null,
      "outputs": []
    },
    {
      "cell_type": "code",
      "source": [
        "game_state = INIT_GAME_STATE.copy()\n",
        "\n",
        "start_game()"
      ],
      "metadata": {
        "colab": {
          "base_uri": "https://localhost:8080/"
        },
        "id": "K6Aq-C7zR9YS",
        "outputId": "17fed4f5-b6cc-4fe3-d6eb-53025f95f9b5"
      },
      "execution_count": null,
      "outputs": [
        {
          "output_type": "stream",
          "name": "stdout",
          "text": [
            "You wake up in the engine room of a sinking ship...\n",
            "\n",
            "    The room is dark, and you can hear water rushing in.\n",
            "    Time is running out, and you need to find a key to unlock the door\n",
            "    and go to the  upper deck where there are safety boats before it's too late.\n",
            "\n",
            "    \n",
            "You are now in engine room\n",
            "What would you like to do? Type 'explore' or 'examine'?examine\n",
            "What would you like to examine?locker\n",
            "You examine locker. You find key for door a.\n",
            "You are now in engine room\n",
            "What would you like to do? Type 'explore' or 'examine'?examine\n",
            "What would you like to examine?door a\n",
            "You examine door a. You unlock it with a key you have.\n",
            "Do you want to go to the next room? Ener 'yes' or 'no'yes\n",
            "You are now in control room\n",
            "What would you like to do? Type 'explore' or 'examine'?examine\n",
            "What would you like to examine?drawer\n",
            "You examine drawer. You find key for door b.\n",
            "You are now in control room\n",
            "What would you like to do? Type 'explore' or 'examine'?examine\n",
            "What would you like to examine?door b\n",
            "You examine door b. You unlock it with a key you have.\n",
            "Do you want to go to the next room? Ener 'yes' or 'no'yes\n",
            "You are now in crew room\n",
            "What would you like to do? Type 'explore' or 'examine'?examine\n",
            "What would you like to examine?sink\n",
            "You examine sink. You find key for door c.\n",
            "You are now in crew room\n",
            "What would you like to do? Type 'explore' or 'examine'?examine\n",
            "What would you like to examine?door b\n",
            "You examine door b. You unlock it with a key you have.\n",
            "Do you want to go to the next room? Ener 'yes' or 'no'yes\n",
            "You are now in control room\n",
            "What would you like to do? Type 'explore' or 'examine'?examine\n",
            "What would you like to examine?door c\n",
            "You examine door c. You unlock it with a key you have.\n",
            "Do you want to go to the next room? Ener 'yes' or 'no'yes\n",
            "Congrats! You escaped the room!\n",
            "\n",
            "\n",
            "\n",
            "\n",
            "\n",
            "\n",
            "\n",
            "\n",
            "\n",
            "\n",
            "\n",
            "\n",
            "\n",
            "\n",
            "\n",
            "\n",
            "\n",
            "\n",
            "\n",
            "\n",
            "\n"
          ]
        }
      ]
    }
  ]
}